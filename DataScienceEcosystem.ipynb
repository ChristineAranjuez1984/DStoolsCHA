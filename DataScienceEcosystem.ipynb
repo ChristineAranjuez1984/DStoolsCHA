{
 "cells": [
  {
   "cell_type": "markdown",
   "id": "26977f05",
   "metadata": {},
   "source": [
    "# Data Science Tools and Ecosystem"
   ]
  },
  {
   "cell_type": "markdown",
   "id": "6727f728",
   "metadata": {},
   "source": [
    "In this notebook, Data Science Tools and Ecosystem are summarized."
   ]
  },
  {
   "cell_type": "markdown",
   "id": "7f6b1ac9",
   "metadata": {},
   "source": [
    "**Objectives:**\n",
    "* List popular languages for Data Science\n",
    "* List of commonly used Data Science libraries\n",
    "* List of Data Science tools\n",
    "* How to code arithmetic expressions to multipy and add number\n",
    "* How to code arithmetic expressions to convert minutes into hours"
   ]
  },
  {
   "cell_type": "markdown",
   "id": "cfd34f5e",
   "metadata": {},
   "source": [
    "# Some of the popular languages that Data Scientists use are:"
   ]
  },
  {
   "cell_type": "markdown",
   "id": "87c5551e",
   "metadata": {},
   "source": [
    "1. Python\n",
    "2. R Language\n",
    "3. SQL\n",
    "4. Scala\n",
    "5. Java\n",
    "6. C++\n",
    "7. Julia"
   ]
  },
  {
   "cell_type": "markdown",
   "id": "9d24718b",
   "metadata": {},
   "source": [
    "## Some of the commonly used libraries used by Data Scientists include:"
   ]
  },
  {
   "cell_type": "markdown",
   "id": "ced86046",
   "metadata": {},
   "source": [
    "1. Pandas\n",
    "2. NumPy\n",
    "3. SciPy\n",
    "4. Matplotlib\n",
    "5. Seaborn\n",
    "6. Scikit-learn\n",
    "7. Keras\n",
    "8. TensorFlow\n",
    "9. Pytorch\n",
    "10. Vegas\n",
    "11. Big DL\n",
    "12. ggplot2\n",
    "13. dplyr\n",
    "14. stringr\n",
    "15. ggplot\n",
    "16. caret"
   ]
  },
  {
   "cell_type": "markdown",
   "id": "542cfebd",
   "metadata": {},
   "source": [
    "| Data Science Tools | Development Environments | Execution Environments | Fully Integrated Visual Tools |\n",
    "| ------------------ | ------------------------ | ---------------------- | ----------------------------- |\n",
    "| MySQL | Jupyter | Apache Spark | KNIME |\n",
    "| PostgreSQL | Apache Zeppelin | Flink | Orange |\n",
    "| MongoDB | R Studio | Ray |\n",
    "| Apache | Spyder |\n",
    "| CouchDB |\n",
    "| Apache Cassandra |\n",
    "| Hadoop File System |\n",
    "| Ceph |\n",
    "| Elastic Search |\n",
    "| Apache AirFlow |\n",
    "| KubeFlow |\n",
    "| Apache Kafka |\n",
    "| Apache Nifi |\n",
    "| Apache SparkSQL |\n",
    "| NodeRED |\n",
    "| Pixie Dust |\n",
    "| Hue |\n",
    "| Kibana |\n",
    "| Apache Superset |\n",
    "| Apache PredictionIO |\n",
    "| Seldon |\n",
    "| Kubernetes |\n",
    "| Redhat |\n",
    "| OpenShift |\n",
    "| Mleap |\n",
    "| TensorFlow service |\n",
    "| TensorFlow lite |\n",
    "| TensorFlow dot JS |\n",
    "| ModelDB |\n",
    "| Prometheus |\n",
    "| IBM AI Fairness 360 |\n",
    "| IBM Adversarial Robustness 360 Toolbox |\n",
    "| IBM AI Explainability 360|\n",
    "| Git |\n",
    "| Github |\n",
    "| GitLab |\n",
    "| Bitbucket |\n",
    "| Apache Atlas |\n",
    "| ODPi Egeria |\n",
    "| Kylo |"
   ]
  },
  {
   "cell_type": "markdown",
   "id": "15c721f6",
   "metadata": {},
   "source": [
    "### Below are a few examples of evaluating arithmetic expressions in Python"
   ]
  },
  {
   "cell_type": "code",
   "execution_count": 3,
   "id": "1dc69884",
   "metadata": {},
   "outputs": [
    {
     "data": {
      "text/plain": [
       "17"
      ]
     },
     "execution_count": 3,
     "metadata": {},
     "output_type": "execute_result"
    }
   ],
   "source": [
    "# This a simple arithmetic expression to mutiply then add integers\n",
    "(3*4)+5"
   ]
  },
  {
   "cell_type": "code",
   "execution_count": 4,
   "id": "669f9df5",
   "metadata": {},
   "outputs": [
    {
     "data": {
      "text/plain": [
       "3.3333333333333335"
      ]
     },
     "execution_count": 4,
     "metadata": {},
     "output_type": "execute_result"
    }
   ],
   "source": [
    "# This will convert 200 minutes to hours by diving by 60\n",
    "(200/60)"
   ]
  },
  {
   "cell_type": "markdown",
   "id": "c2ac628e",
   "metadata": {},
   "source": [
    "## Author\n",
    "Christine H. Aranjuez"
   ]
  }
 ],
 "metadata": {
  "kernelspec": {
   "display_name": "Python 3 (ipykernel)",
   "language": "python",
   "name": "python3"
  },
  "language_info": {
   "codemirror_mode": {
    "name": "ipython",
    "version": 3
   },
   "file_extension": ".py",
   "mimetype": "text/x-python",
   "name": "python",
   "nbconvert_exporter": "python",
   "pygments_lexer": "ipython3",
   "version": "3.10.9"
  }
 },
 "nbformat": 4,
 "nbformat_minor": 5
}
